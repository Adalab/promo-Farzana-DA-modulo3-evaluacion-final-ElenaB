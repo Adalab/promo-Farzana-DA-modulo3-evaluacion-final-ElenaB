{
 "cells": [
  {
   "cell_type": "code",
   "execution_count": null,
   "metadata": {},
   "outputs": [],
   "source": [
    "import pandas as pd\n",
    "import numpy as np\n",
    "pd.set_option('display.max_rows', None)\n",
    "pd.set_option('display.max_columns', None)\n",
    "\n",
    "# Imputación de nulos usando métodos avanzados estadísticos\n",
    "# -----------------------------------------------------------------------\n",
    "from sklearn.impute import SimpleImputer\n",
    "from sklearn.experimental import enable_iterative_imputer\n",
    "from sklearn.impute import IterativeImputer\n",
    "from sklearn.impute import KNNImputer\n",
    "\n",
    "# Librerías de visualización\n",
    "# -----------------------------------------------------------------------\n",
    "import seaborn as sns\n",
    "import matplotlib.pyplot as plt\n",
    "\n",
    "# Librerías de estadistica\n",
    "# -----------------------------------------------------\n",
    "from scipy import stats\n",
    "from scipy.stats import shapiro, poisson, chisquare, expon, kstest, stats, t\n",
    "import warnings\n",
    "warnings.filterwarnings(\"ignore\")\n",
    "from scipy.stats import ttest_ind, norm, chi2_contingency, f_oneway"
   ]
  },
  {
   "cell_type": "code",
   "execution_count": null,
   "metadata": {},
   "outputs": [],
   "source": [
    "df_customer= pd.read_csv(\"Customer Loyalty History.csv\")\n",
    "df = pd.read_csv(\"DF_limpieza_transformacion.csv\")"
   ]
  },
  {
   "cell_type": "code",
   "execution_count": null,
   "metadata": {},
   "outputs": [],
   "source": [
    "#1.¿Cómo se distribuye la cantidad de vuelos reservados por mes durante el año?\n",
    "#2.¿Existe una relación entre la distancia de los vuelos y los puntos acumulados por los clientes?\n",
    "#3.¿Cuál es la distribución de los clientes por provincia o estado?\n",
    "#4.¿Cómo se compara el salario promedio entre los diferentes niveles educativos de los clientes?\n",
    "#5.¿Cuál es la proporción de clientes con diferentes tipos de tarjetas de fidelidad?\n",
    "#6.¿Cómo se distribuyen los clientes según su estado civil y género?"
   ]
  },
  {
   "cell_type": "code",
   "execution_count": null,
   "metadata": {},
   "outputs": [],
   "source": [
    "df.head(3)"
   ]
  },
  {
   "cell_type": "code",
   "execution_count": null,
   "metadata": {},
   "outputs": [],
   "source": [
    "#1.¿Cómo se distribuye la cantidad de vuelos reservados por mes durante el año?\n",
    "sns.lineplot(data=df, x=\"Month\", y=\"Flights Booked\")"
   ]
  },
  {
   "cell_type": "code",
   "execution_count": null,
   "metadata": {},
   "outputs": [],
   "source": [
    "#2.¿Existe una relación entre la distancia de los vuelos y los puntos acumulados por los clientes?"
   ]
  },
  {
   "cell_type": "code",
   "execution_count": null,
   "metadata": {},
   "outputs": [],
   "source": [
    "sns.scatterplot(x = \"Points Accumulated\", \n",
    "                y = \"Distance\", \n",
    "                data = df)\n",
    "\n",
    "# cambiamos los nombres de los ejes\n",
    "plt.xlabel(\"Points Accumulated\")\n",
    "plt.ylabel(\"Distance\");"
   ]
  },
  {
   "cell_type": "code",
   "execution_count": null,
   "metadata": {},
   "outputs": [],
   "source": [
    "#3.¿Cuál es la distribución de los clientes por provincia o estado?\n",
    "df_clientes = df_customer.groupby(\"Province\")[\"Loyalty Number\"].count().reset_index()\n",
    "\n",
    "sns.barplot(y=\"Province\", x=\"Loyalty Number\", data=df_clientes)\n",
    "plt.xticks(rotation = 60)"
   ]
  },
  {
   "cell_type": "code",
   "execution_count": null,
   "metadata": {},
   "outputs": [],
   "source": [
    "#4.¿Cómo se compara el salario promedio entre los diferentes niveles educativos de los clientes?\n",
    "df_salario = df_customer.groupby(\"Education\")[\"Salary\"].mean().round(0).reset_index()\n",
    "sns.barplot(y=\"Salary\", x=\"Education\", data=df_salario)\n",
    "plt.xticks(rotation = 60)"
   ]
  },
  {
   "cell_type": "code",
   "execution_count": null,
   "metadata": {},
   "outputs": [],
   "source": [
    "#5.¿Cuál es la proporción de clientes con diferentes tipos de tarjetas de fidelidad?\n",
    "df_fidelidad= df_customer.groupby(\"Loyalty Card\")[\"Loyalty Number\"].count().reset_index()\n",
    "plt.pie(\"Loyalty Number\", labels= \"Loyalty Card\",\n",
    "        data = df_fidelidad, \n",
    "        autopct=  '%1.1f%%',\n",
    "        textprops={'fontsize': 8}, \n",
    "        startangle=90);"
   ]
  },
  {
   "cell_type": "code",
   "execution_count": null,
   "metadata": {},
   "outputs": [],
   "source": [
    "#6.¿Cómo se distribuyen los clientes según su estado civil y género?\n",
    "sns.countplot(x = \"Marital Status\", \n",
    "              data = df_customer, \n",
    "              palette = \"purple\", \n",
    "              hue = \"Gender\")"
   ]
  }
 ],
 "metadata": {
  "language_info": {
   "name": "python"
  }
 },
 "nbformat": 4,
 "nbformat_minor": 2
}
